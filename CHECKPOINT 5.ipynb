{
 "cells": [
  {
   "cell_type": "markdown",
   "metadata": {},
   "source": [
    "# QUESTION 1 :"
   ]
  },
  {
   "cell_type": "markdown",
   "metadata": {},
   "source": [
    "Write a Python program to convert an array to an ordinary list with the same items."
   ]
  },
  {
   "cell_type": "code",
   "execution_count": 1,
   "metadata": {},
   "outputs": [
    {
     "name": "stdout",
     "output_type": "stream",
     "text": [
      "a=0\n",
      "b=5\n",
      "c=1\n",
      "d=6\n",
      "Convert e to a list :  [[3, 1, 3, 0, 0, 0]]\n"
     ]
    }
   ],
   "source": [
    "a=int(input(\"a=\"))\n",
    "b=int(input(\"b=\"))\n",
    "a<b\n",
    "c=int(input(\"c=\"))\n",
    "d=int(input(\"d=\"))\n",
    "L=list\n",
    "import numpy as np\n",
    "e= np.random.randint(a,b,(c,d))\n",
    "L = e.tolist()\n",
    "print(\"Convert e to a list : \",L)"
   ]
  },
  {
   "cell_type": "markdown",
   "metadata": {},
   "source": [
    "# QUESTION 2 :"
   ]
  },
  {
   "cell_type": "markdown",
   "metadata": {},
   "source": [
    "Write a NumPy program to compute the sum of the diagonal element of a given array."
   ]
  },
  {
   "cell_type": "code",
   "execution_count": 2,
   "metadata": {},
   "outputs": [
    {
     "name": "stdout",
     "output_type": "stream",
     "text": [
      "f=1\n",
      "g=6\n",
      "h=5\n",
      "i=5\n",
      "[[4 1 1 1 3]\n",
      " [1 3 2 2 3]\n",
      " [1 4 2 1 5]\n",
      " [4 3 3 3 5]\n",
      " [4 4 1 5 1]]\n"
     ]
    }
   ],
   "source": [
    "f=int(input(\"f=\"))\n",
    "g=int(input(\"g=\"))\n",
    "f<g\n",
    "h=int(input(\"h=\"))\n",
    "i=int(input(\"i=\"))\n",
    "h=i\n",
    "import numpy as np\n",
    "j= np.random.randint(f,g,(h,i))\n",
    "print(j)"
   ]
  },
  {
   "cell_type": "code",
   "execution_count": 3,
   "metadata": {},
   "outputs": [
    {
     "name": "stdout",
     "output_type": "stream",
     "text": [
      "La somme des valeurs diagonales est : 13\n"
     ]
    }
   ],
   "source": [
    "SUM= int()\n",
    "SUM =  np.trace(j)\n",
    "print(\"La somme des valeurs diagonales est :\", SUM)"
   ]
  },
  {
   "cell_type": "markdown",
   "metadata": {},
   "source": [
    "# QUESTION 3 :"
   ]
  },
  {
   "cell_type": "markdown",
   "metadata": {},
   "source": [
    "Given an array of your choice, get all the values higher than X :\n",
    "if a = [[1,2],[3,5]] and x = 3 : then 3 and 5 are higher than 2. "
   ]
  },
  {
   "cell_type": "code",
   "execution_count": 5,
   "metadata": {},
   "outputs": [
    {
     "name": "stdout",
     "output_type": "stream",
     "text": [
      "a=1\n",
      "b=10\n",
      "c=5\n",
      "d=5\n",
      "[[8 6 4 8 6]\n",
      " [4 9 4 4 8]\n",
      " [1 1 4 6 4]\n",
      " [7 7 7 4 5]\n",
      " [9 9 2 3 9]]\n"
     ]
    }
   ],
   "source": [
    "a=int(input(\"a=\"))\n",
    "b=int(input(\"b=\"))\n",
    "a<b\n",
    "c=int(input(\"c=\"))\n",
    "d=int(input(\"d=\"))\n",
    "L=list\n",
    "import numpy as np\n",
    "e= np.random.randint(a,b,(c,d))\n",
    "print(e)"
   ]
  },
  {
   "cell_type": "code",
   "execution_count": 8,
   "metadata": {},
   "outputs": [
    {
     "name": "stdout",
     "output_type": "stream",
     "text": [
      "x=7\n",
      "7\n"
     ]
    }
   ],
   "source": [
    "x=int(input(\"x=\"))\n",
    "SUM=0\n",
    "for i in range(0,len(e)):\n",
    "    for j in range(len(e[i])):\n",
    "        r=e[i][j]\n",
    "        if r>x:\n",
    "            SUM+=1\n",
    "print(SUM)"
   ]
  },
  {
   "cell_type": "markdown",
   "metadata": {},
   "source": [
    "# QUESTION 4 :"
   ]
  },
  {
   "cell_type": "markdown",
   "metadata": {},
   "source": [
    "Given two arrays A&B having the same shape. \n",
    "The task is to apply addition by hand : C is the new array. "
   ]
  },
  {
   "cell_type": "code",
   "execution_count": 9,
   "metadata": {},
   "outputs": [
    {
     "name": "stdout",
     "output_type": "stream",
     "text": [
      "a=1\n",
      "b=4\n",
      "c=5\n",
      "d=5\n",
      "[[1 1 1 3 3]\n",
      " [3 1 3 2 2]\n",
      " [1 3 1 1 2]\n",
      " [3 3 3 2 3]\n",
      " [2 1 2 1 3]]\n",
      "[[2 1 3 2 3]\n",
      " [1 1 3 2 3]\n",
      " [2 3 1 2 3]\n",
      " [1 2 1 2 3]\n",
      " [3 2 3 1 2]]\n"
     ]
    }
   ],
   "source": [
    "a=int(input(\"a=\"))\n",
    "b=int(input(\"b=\"))\n",
    "a<b\n",
    "c=int(input(\"c=\"))\n",
    "d=int(input(\"d=\"))\n",
    "L=list\n",
    "import numpy as np\n",
    "e= np.random.randint(a,b,(c,d))\n",
    "f= np.random.randint(a,b,(c,d))\n",
    "print(e)\n",
    "print(f)"
   ]
  },
  {
   "cell_type": "code",
   "execution_count": 10,
   "metadata": {},
   "outputs": [
    {
     "name": "stdout",
     "output_type": "stream",
     "text": [
      "[[3, 2, 4, 5, 6], [4, 2, 6, 4, 5], [3, 6, 2, 3, 5], [4, 5, 4, 4, 6], [5, 3, 5, 2, 5]]\n"
     ]
    }
   ],
   "source": [
    "h=[]\n",
    "for i in range(0,len(e)):\n",
    "    l=[]\n",
    "    for j in range(len(e[i])):\n",
    "        r = e[i][j] + f[i][j]\n",
    "        l.append(r)\n",
    "    h.append(l)\n",
    "print(h)"
   ]
  },
  {
   "cell_type": "markdown",
   "metadata": {},
   "source": [
    "# QUESTION 5:"
   ]
  },
  {
   "cell_type": "markdown",
   "metadata": {},
   "source": [
    "Write a NumPy program to subtract the mean of each row of a given matrix."
   ]
  },
  {
   "cell_type": "code",
   "execution_count": 15,
   "metadata": {},
   "outputs": [
    {
     "name": "stdout",
     "output_type": "stream",
     "text": [
      "a=1\n",
      "b=5\n",
      "c=5\n",
      "d=5\n",
      "[[2 1 4 1 1]\n",
      " [2 4 4 2 3]\n",
      " [1 2 4 4 1]\n",
      " [3 3 1 1 1]\n",
      " [4 2 3 1 1]]\n"
     ]
    }
   ],
   "source": [
    "a=int(input(\"a=\"))\n",
    "b=int(input(\"b=\"))\n",
    "a<b\n",
    "c=int(input(\"c=\"))\n",
    "d=int(input(\"d=\"))\n",
    "import numpy as np\n",
    "e= np.random.randint(a,b,(c,d))\n",
    "print(e)"
   ]
  },
  {
   "cell_type": "code",
   "execution_count": 17,
   "metadata": {},
   "outputs": [
    {
     "name": "stdout",
     "output_type": "stream",
     "text": [
      "[1.8, 3.0, 2.4, 1.8, 2.2]\n"
     ]
    }
   ],
   "source": [
    "h=[]\n",
    "for i in range(0,len(e)):\n",
    "    s=0\n",
    "    for j in range(len(e[i])):\n",
    "        s=s+e[i][j]\n",
    "    k=s/len(e)\n",
    "    h.append(k)\n",
    "print(h)"
   ]
  },
  {
   "cell_type": "code",
   "execution_count": null,
   "metadata": {},
   "outputs": [],
   "source": []
  }
 ],
 "metadata": {
  "kernelspec": {
   "display_name": "Python 3",
   "language": "python",
   "name": "python3"
  },
  "language_info": {
   "codemirror_mode": {
    "name": "ipython",
    "version": 3
   },
   "file_extension": ".py",
   "mimetype": "text/x-python",
   "name": "python",
   "nbconvert_exporter": "python",
   "pygments_lexer": "ipython3",
   "version": "3.8.5"
  }
 },
 "nbformat": 4,
 "nbformat_minor": 4
}
