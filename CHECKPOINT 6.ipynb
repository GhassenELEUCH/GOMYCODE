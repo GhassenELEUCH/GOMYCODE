{
 "cells": [
  {
   "cell_type": "markdown",
   "metadata": {},
   "source": [
    "# QUESTION 1:"
   ]
  },
  {
   "cell_type": "markdown",
   "metadata": {},
   "source": [
    "Print the three first rows using head() method :"
   ]
  },
  {
   "cell_type": "code",
   "execution_count": 1,
   "metadata": {},
   "outputs": [
    {
     "name": "stdout",
     "output_type": "stream",
     "text": [
      "        name   score  attempts qualify\n",
      "a  Anastasia    12.5         1     yes\n",
      "b       Dima       9         3      no\n",
      "c  Katherine    16.5         2     yes\n",
      "d      James  np.nan         3      no\n",
      "e      Emily       9         2      no\n",
      "f    Michael      20         3     yes\n",
      "g    Matthew    14.5         1     yes\n",
      "h      Laura  np.nan         1      no\n",
      "i      Kevin       8         2      no\n",
      "j      Jonas      19         1     yes\n"
     ]
    }
   ],
   "source": [
    "import pandas as pd\n",
    "exam_data={'name': ['Anastasia', 'Dima', 'Katherine', 'James', 'Emily', 'Michael', 'Matthew', 'Laura', 'Kevin', 'Jonas'], 'score': [12.5, 9, 16.5, \"np.nan\", 9, 20, 14.5, \"np.nan\", 8, 19], 'attempts': [1, 3, 2, 3, 2, 3, 1, 1, 2, 1], 'qualify': ['yes', 'no', 'yes', 'no', 'no', 'yes', 'yes', 'no', 'no', 'yes']}\n",
    "PROGRAM=pd.DataFrame(exam_data, columns = ['name', 'score', 'attempts', 'qualify'], index=['a', 'b', 'c', 'd', 'e', 'f', 'g', 'h', 'i', 'j'])\n",
    "print(PROGRAM)"
   ]
  },
  {
   "cell_type": "code",
   "execution_count": 2,
   "metadata": {},
   "outputs": [
    {
     "name": "stdout",
     "output_type": "stream",
     "text": [
      "        name score  attempts qualify\n",
      "a  Anastasia  12.5         1     yes\n",
      "b       Dima     9         3      no\n",
      "c  Katherine  16.5         2     yes\n"
     ]
    }
   ],
   "source": [
    "TOP_THREE=PROGRAM.head(3)\n",
    "print(TOP_THREE)"
   ]
  },
  {
   "cell_type": "markdown",
   "metadata": {},
   "source": [
    "# QUESTION 2 :"
   ]
  },
  {
   "cell_type": "markdown",
   "metadata": {},
   "source": [
    "Delete rows with Nan values"
   ]
  },
  {
   "cell_type": "code",
   "execution_count": 3,
   "metadata": {},
   "outputs": [
    {
     "name": "stdout",
     "output_type": "stream",
     "text": [
      "        name score  attempts qualify\n",
      "a  Anastasia  12.5         1     yes\n",
      "b       Dima     9         3      no\n",
      "c  Katherine  16.5         2     yes\n",
      "e      Emily     9         2      no\n",
      "f    Michael    20         3     yes\n",
      "g    Matthew  14.5         1     yes\n",
      "i      Kevin     8         2      no\n",
      "j      Jonas    19         1     yes\n"
     ]
    }
   ],
   "source": [
    "Q2=PROGRAM.drop(labels=[\"d\",\"h\"])\n",
    "print(Q2)"
   ]
  },
  {
   "cell_type": "markdown",
   "metadata": {},
   "source": [
    "# QUESTION 3 :"
   ]
  },
  {
   "cell_type": "markdown",
   "metadata": {},
   "source": [
    "Extract the 'name' and 'score' columns from the DataFrame."
   ]
  },
  {
   "cell_type": "code",
   "execution_count": 4,
   "metadata": {},
   "outputs": [
    {
     "name": "stdout",
     "output_type": "stream",
     "text": [
      "   attempts qualify\n",
      "a         1     yes\n",
      "b         3      no\n",
      "c         2     yes\n",
      "d         3      no\n",
      "e         2      no\n",
      "f         3     yes\n",
      "g         1     yes\n",
      "h         1      no\n",
      "i         2      no\n",
      "j         1     yes\n"
     ]
    }
   ],
   "source": [
    "Q3=PROGRAM.drop(columns=[\"name\",\"score\"])\n",
    "print(Q3)"
   ]
  },
  {
   "cell_type": "markdown",
   "metadata": {},
   "source": [
    "# QUESTION 4 :"
   ]
  },
  {
   "cell_type": "markdown",
   "metadata": {},
   "source": [
    "Write a Pandas program to append a new row 'k' to data frame with these values(name : \"Suresh\", score: 15.5, attempts: 1, qualify: \"yes\")"
   ]
  },
  {
   "cell_type": "code",
   "execution_count": 5,
   "metadata": {},
   "outputs": [
    {
     "name": "stdout",
     "output_type": "stream",
     "text": [
      "         name   score  attempts qualify\n",
      "0   Anastasia    12.5         1     yes\n",
      "1        Dima       9         3      no\n",
      "2   Katherine    16.5         2     yes\n",
      "3       James  np.nan         3      no\n",
      "4       Emily       9         2      no\n",
      "5     Michael      20         3     yes\n",
      "6     Matthew    14.5         1     yes\n",
      "7       Laura  np.nan         1      no\n",
      "8       Kevin       8         2      no\n",
      "9       Jonas      19         1     yes\n",
      "10     Suresh    15.5         1     yes\n"
     ]
    }
   ],
   "source": [
    "NEWLINE={'name' : \"Suresh\", 'score': 15.5, 'attempts': 1, 'qualify': \"yes\"}\n",
    "Q4=PROGRAM.append(NEWLINE,ignore_index=True)\n",
    "print(Q4)"
   ]
  },
  {
   "cell_type": "markdown",
   "metadata": {},
   "source": [
    "# QUESTION 5 :"
   ]
  },
  {
   "cell_type": "markdown",
   "metadata": {},
   "source": [
    "Write a Pandas program to delete the 'attempts' column from the DataFrame."
   ]
  },
  {
   "cell_type": "code",
   "execution_count": 6,
   "metadata": {},
   "outputs": [
    {
     "name": "stdout",
     "output_type": "stream",
     "text": [
      "        name   score qualify\n",
      "a  Anastasia    12.5     yes\n",
      "b       Dima       9      no\n",
      "c  Katherine    16.5     yes\n",
      "d      James  np.nan      no\n",
      "e      Emily       9      no\n",
      "f    Michael      20     yes\n",
      "g    Matthew    14.5     yes\n",
      "h      Laura  np.nan      no\n",
      "i      Kevin       8      no\n",
      "j      Jonas      19     yes\n"
     ]
    }
   ],
   "source": [
    "Q5=PROGRAM.drop(columns=[\"attempts\"])\n",
    "print(Q5)"
   ]
  },
  {
   "cell_type": "markdown",
   "metadata": {},
   "source": [
    "# QUESTION 6 :"
   ]
  },
  {
   "cell_type": "markdown",
   "metadata": {},
   "source": [
    "Add a new column \"Success\" : if the score is higher than 10 we will have 1 else we will have 0"
   ]
  },
  {
   "cell_type": "code",
   "execution_count": 7,
   "metadata": {},
   "outputs": [
    {
     "name": "stdout",
     "output_type": "stream",
     "text": [
      "        name   score  attempts qualify SUCCESS\n",
      "a  Anastasia    12.5         1     yes    TRUE\n",
      "b       Dima       9         3      no   FALSE\n",
      "c  Katherine    16.5         2     yes    TRUE\n",
      "d      James  np.nan         3      no   FALSE\n",
      "e      Emily       9         2      no   FALSE\n",
      "f    Michael      20         3     yes    TRUE\n",
      "g    Matthew    14.5         1     yes    TRUE\n",
      "h      Laura  np.nan         1      no   FALSE\n",
      "i      Kevin       8         2      no   FALSE\n",
      "j      Jonas      19         1     yes    TRUE\n"
     ]
    }
   ],
   "source": [
    "SUCCESS=['TRUE','FALSE', 'TRUE', 'FALSE', 'FALSE', 'TRUE', 'TRUE', 'FALSE', 'FALSE', 'TRUE']\n",
    "PROGRAM[\"SUCCESS\"]=SUCCESS\n",
    "print(PROGRAM)"
   ]
  },
  {
   "cell_type": "code",
   "execution_count": null,
   "metadata": {},
   "outputs": [],
   "source": []
  }
 ],
 "metadata": {
  "kernelspec": {
   "display_name": "Python 3",
   "language": "python",
   "name": "python3"
  },
  "language_info": {
   "codemirror_mode": {
    "name": "ipython",
    "version": 3
   },
   "file_extension": ".py",
   "mimetype": "text/x-python",
   "name": "python",
   "nbconvert_exporter": "python",
   "pygments_lexer": "ipython3",
   "version": "3.8.5"
  }
 },
 "nbformat": 4,
 "nbformat_minor": 4
}
