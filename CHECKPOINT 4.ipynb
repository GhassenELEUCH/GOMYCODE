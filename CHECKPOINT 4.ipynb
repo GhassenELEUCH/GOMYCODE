{
 "cells": [
  {
   "cell_type": "markdown",
   "metadata": {},
   "source": [
    "# Question 1:\n",
    "Ecrire une fonction Python pour trouver le Max de trois numéros."
   ]
  },
  {
   "cell_type": "code",
   "execution_count": 1,
   "metadata": {},
   "outputs": [
    {
     "name": "stdout",
     "output_type": "stream",
     "text": [
      "La valeur maximale est: 21\n"
     ]
    }
   ],
   "source": [
    "def fonction(a,b,c):\n",
    "    if a> b and a>c:\n",
    "        print(\"La valeur maximale est:\",a)\n",
    "    elif b> a and b>c:\n",
    "        print(\"La valeur maximale est:\",b)\n",
    "    elif c> a and c>b:\n",
    "        print(\"La valeur maximale est:\",c)\n",
    "    elif a==b and a>c:\n",
    "        print(\"La valeur maximale est:\",a)\n",
    "    elif a==c and a>b:\n",
    "        print(\"La valeur maximale est:\",a)\n",
    "    elif b==c and b>a:\n",
    "        print(\"La valeur maximale est:\",b)\n",
    "    else:\n",
    "        print(\"Pas de valeurs maximales, tous les chiffres sont égaux:\",a)\n",
    "fonction(21,17,21)"
   ]
  },
  {
   "cell_type": "markdown",
   "metadata": {},
   "source": [
    "# Question 2:\n",
    "\n",
    "* Ecrire une fonction qui résume les éléments d’une liste d’entiers.\n",
    "* Ecrire une fonction qui multiplie les éléments d’une liste d’entiers.\n",
    "* Utilisez les deux fonctions pour résumer les éléments dont la position est un nombre\n",
    "même (0,2,4...) et multiplier le reste. Indice: Envisager d’extraire deux listes d’une première liste"
   ]
  },
  {
   "cell_type": "code",
   "execution_count": 2,
   "metadata": {},
   "outputs": [
    {
     "name": "stdout",
     "output_type": "stream",
     "text": [
      "a=5\n",
      "b=6\n",
      "c=8\n",
      "d=3\n",
      "e=1\n",
      "f=2\n",
      "g=1\n",
      "h=3\n",
      "Le résultat de la somme des éléments de la liste est : 24\n",
      "Le résultat de la multiplication des éléments de la liste est : 864\n"
     ]
    }
   ],
   "source": [
    "a=int(input(\"a=\"))\n",
    "b=int(input(\"b=\"))\n",
    "c=int(input(\"c=\"))\n",
    "d=int(input(\"d=\"))\n",
    "e=int(input(\"e=\"))\n",
    "f=int(input(\"f=\"))\n",
    "g=int(input(\"g=\"))\n",
    "h=int(input(\"h=\"))\n",
    "x=[a,b,c,d,e,f,g,h]\n",
    "SUM=0\n",
    "MULT=1\n",
    "for i in range (1,len(x)):\n",
    "    SUM+=x[i]\n",
    "    MULT*=x[i]\n",
    "print(\"Le résultat de la somme des éléments de la liste est :\",SUM)\n",
    "print(\"Le résultat de la multiplication des éléments de la liste est :\",MULT)"
   ]
  },
  {
   "cell_type": "code",
   "execution_count": 5,
   "metadata": {},
   "outputs": [
    {
     "name": "stdout",
     "output_type": "stream",
     "text": [
      "Le résultat de la somme des éléments, dont la position est pair, de la liste est : 16\n",
      "Le résultat de la multiplication des éléments, dont la position est impair, de la liste est : 9\n"
     ]
    }
   ],
   "source": [
    "SUM_EVEN=0\n",
    "MULT_REST=1\n",
    "for i in range (1,len(x)):\n",
    "    if x[i]%2==0:\n",
    "        SUM_EVEN+=x[i]\n",
    "    elif x[i]%2!=0:\n",
    "        MULT_REST=x[i]*MULT_REST\n",
    "print(\"Le résultat de la somme des éléments, dont la position est pair, de la liste est :\",SUM_EVEN)\n",
    "print(\"Le résultat de la multiplication des éléments, dont la position est impair, de la liste est :\",MULT_REST)"
   ]
  },
  {
   "cell_type": "markdown",
   "metadata": {},
   "source": [
    "# Question 3:\n",
    "Écrivez un programme Python qui accepte une séquence de mots séparée par un trait d’union comme entrée et imprime les mots dans une séquence séparée par un trait d’union après les avoir triés par ordre alphabétique.\n",
    "\n",
    "Exemples d’articles : résultat attendu vert-rouge-jaune-noir-blanc : noir-vert-rouge-blanc-jaune\n",
    "\n",
    "Conseil : Il existe une fonction de tri pour les listes"
   ]
  },
  {
   "cell_type": "code",
   "execution_count": 6,
   "metadata": {},
   "outputs": [
    {
     "name": "stdout",
     "output_type": "stream",
     "text": [
      "green-red-yellow-black-white\n",
      "black-green-red-white-yellow\n"
     ]
    }
   ],
   "source": [
    "items=[n for n in input().split('-')]\n",
    "items.sort()\n",
    "print('-'.join(items))"
   ]
  }
 ],
 "metadata": {
  "kernelspec": {
   "display_name": "Python 3",
   "language": "python",
   "name": "python3"
  },
  "language_info": {
   "codemirror_mode": {
    "name": "ipython",
    "version": 3
   },
   "file_extension": ".py",
   "mimetype": "text/x-python",
   "name": "python",
   "nbconvert_exporter": "python",
   "pygments_lexer": "ipython3",
   "version": "3.8.5"
  }
 },
 "nbformat": 4,
 "nbformat_minor": 4
}
