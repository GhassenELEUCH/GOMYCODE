{
 "cells": [
  {
   "cell_type": "code",
   "execution_count": 1,
   "metadata": {},
   "outputs": [
    {
     "name": "stdout",
     "output_type": "stream",
     "text": [
      "Jhon\n",
      "LENNON\n",
      "LENNON Jhon\n"
     ]
    }
   ],
   "source": [
    "FIRST_NAME=input()\n",
    "LAST_NAME=input()\n",
    "print(LAST_NAME,FIRST_NAME)"
   ]
  },
  {
   "cell_type": "code",
   "execution_count": 8,
   "metadata": {},
   "outputs": [
    {
     "name": "stdout",
     "output_type": "stream",
     "text": [
      "n=5\n",
      "615\n"
     ]
    }
   ],
   "source": [
    "x=int(input(\"n=\"))\n",
    "y=x+x*11+x*111\n",
    "print(y)"
   ]
  },
  {
   "cell_type": "code",
   "execution_count": 4,
   "metadata": {},
   "outputs": [
    {
     "name": "stdout",
     "output_type": "stream",
     "text": [
      "n=25\n",
      "The number n is odd\n"
     ]
    }
   ],
   "source": [
    "x=int(input(\"n=\"))\n",
    "if x%2==0:\n",
    "    print(\"The number n is even\")\n",
    "elif x%2==1:\n",
    "    print(\"The number n is odd\")\n",
    "else:\n",
    "    print(\"Error\")"
   ]
  },
  {
   "cell_type": "code",
   "execution_count": 5,
   "metadata": {},
   "outputs": [
    {
     "name": "stdout",
     "output_type": "stream",
     "text": [
      "2000\n",
      "2007\n",
      "2014\n",
      "2021\n",
      "2028\n",
      "2035\n",
      "2042\n",
      "2049\n",
      "2056\n",
      "2063\n",
      "2070\n",
      "2077\n",
      "2084\n",
      "2091\n",
      "2098\n",
      "2105\n",
      "2112\n",
      "2119\n",
      "2126\n",
      "2133\n",
      "2140\n",
      "2147\n",
      "2154\n",
      "2161\n",
      "2168\n",
      "2175\n",
      "2182\n",
      "2189\n",
      "2196\n",
      "2203\n",
      "2210\n",
      "2217\n",
      "2224\n",
      "2231\n",
      "2238\n",
      "2245\n",
      "2252\n",
      "2259\n",
      "2266\n",
      "2273\n",
      "2280\n",
      "2287\n",
      "2294\n",
      "2301\n",
      "2308\n",
      "2315\n",
      "2322\n",
      "2329\n",
      "2336\n",
      "2343\n",
      "2350\n",
      "2357\n",
      "2364\n",
      "2371\n",
      "2378\n",
      "2385\n",
      "2392\n",
      "2399\n",
      "2406\n",
      "2413\n",
      "2420\n",
      "2427\n",
      "2434\n",
      "2441\n",
      "2448\n",
      "2455\n",
      "2462\n",
      "2469\n",
      "2476\n",
      "2483\n",
      "2490\n",
      "2497\n",
      "2504\n",
      "2511\n",
      "2518\n",
      "2525\n",
      "2532\n",
      "2539\n",
      "2546\n",
      "2553\n",
      "2560\n",
      "2567\n",
      "2574\n",
      "2581\n",
      "2588\n",
      "2595\n",
      "2602\n",
      "2609\n",
      "2616\n",
      "2623\n",
      "2630\n",
      "2637\n",
      "2644\n",
      "2651\n",
      "2658\n",
      "2665\n",
      "2672\n",
      "2679\n",
      "2686\n",
      "2693\n",
      "2700\n",
      "2707\n",
      "2714\n",
      "2721\n",
      "2728\n",
      "2735\n",
      "2742\n",
      "2749\n",
      "2756\n",
      "2763\n",
      "2770\n",
      "2777\n",
      "2784\n",
      "2791\n",
      "2798\n",
      "2805\n",
      "2812\n",
      "2819\n",
      "2826\n",
      "2833\n",
      "2840\n",
      "2847\n",
      "2854\n",
      "2861\n",
      "2868\n",
      "2875\n",
      "2882\n",
      "2889\n",
      "2896\n",
      "2903\n",
      "2910\n",
      "2917\n",
      "2924\n",
      "2931\n",
      "2938\n",
      "2945\n",
      "2952\n",
      "2959\n",
      "2966\n",
      "2973\n",
      "2980\n",
      "2987\n",
      "2994\n",
      "3001\n",
      "3008\n",
      "3015\n",
      "3022\n",
      "3029\n",
      "3036\n",
      "3043\n",
      "3050\n",
      "3057\n",
      "3064\n",
      "3071\n",
      "3078\n",
      "3085\n",
      "3092\n",
      "3099\n",
      "3106\n",
      "3113\n",
      "3120\n",
      "3127\n",
      "3134\n",
      "3141\n",
      "3148\n",
      "3155\n",
      "3162\n",
      "3169\n",
      "3176\n",
      "3183\n",
      "3190\n",
      "3197\n"
     ]
    }
   ],
   "source": [
    "for y in range(2000,3200,7):\n",
    "    print(y)"
   ]
  },
  {
   "cell_type": "code",
   "execution_count": 9,
   "metadata": {},
   "outputs": [
    {
     "name": "stdout",
     "output_type": "stream",
     "text": [
      "n=10\n",
      "Factoriel de n est : 3628800\n"
     ]
    }
   ],
   "source": [
    "n=int(input(\"n=\"))\n",
    "def Fact(n):\n",
    "    if n<2:\n",
    "        return 1\n",
    "    else:\n",
    "        return n*Fact(n-1)\n",
    "print(\"Factoriel de n est :\",Fact(n))"
   ]
  },
  {
   "cell_type": "code",
   "execution_count": 10,
   "metadata": {},
   "outputs": [
    {
     "name": "stdout",
     "output_type": "stream",
     "text": [
      "THEUNITEDSTATESOFAMERICA\n",
      "T\n",
      "E\n",
      "N\n",
      "T\n",
      "D\n",
      "T\n",
      "T\n",
      "S\n",
      "F\n",
      "M\n",
      "R\n",
      "C\n"
     ]
    }
   ],
   "source": [
    "x=\"THE UNITED STATES OF AMERICA\"\n",
    "y=x.replace(' ','')\n",
    "print(y)\n",
    "k=int()\n",
    "for k in range(0,len(y),2):\n",
    "    print(y[k])"
   ]
  },
  {
   "cell_type": "code",
   "execution_count": 12,
   "metadata": {},
   "outputs": [
    {
     "name": "stdout",
     "output_type": "stream",
     "text": [
      "price=700\n",
      "There is 50% discount.\n",
      "The new price is:\n",
      "350.0\n"
     ]
    }
   ],
   "source": [
    "price=int(input(\"price=\"))\n",
    "if price>=500:\n",
    "    print(\"There is 50% discount.\")\n",
    "    print(\"The new price is:\")\n",
    "    y=price/2\n",
    "    print(y)\n",
    "elif 200<=price<500:\n",
    "    y=x*0,7\n",
    "    print(\"There is 30% discount.\")\n",
    "    print(\"The new price is:\")\n",
    "    y=price*7/10\n",
    "    print(y)\n",
    "else:\n",
    "    print(\"There is 10% discount.\")\n",
    "    print(\"The new price is:\")\n",
    "    y=price*9/10\n",
    "    print(y)"
   ]
  },
  {
   "cell_type": "code",
   "execution_count": 13,
   "metadata": {},
   "outputs": [
    {
     "name": "stdout",
     "output_type": "stream",
     "text": [
      "year:2021\n",
      "The year is not a leap year\n"
     ]
    }
   ],
   "source": [
    "x=int(input(\"year:\"))\n",
    "if x%4 ==0:\n",
    "    print(\"The year is a leap year\")\n",
    "else:\n",
    "    print(\"The year is not a leap year\")"
   ]
  },
  {
   "cell_type": "code",
   "execution_count": null,
   "metadata": {},
   "outputs": [],
   "source": []
  }
 ],
 "metadata": {
  "kernelspec": {
   "display_name": "Python 3",
   "language": "python",
   "name": "python3"
  },
  "language_info": {
   "codemirror_mode": {
    "name": "ipython",
    "version": 3
   },
   "file_extension": ".py",
   "mimetype": "text/x-python",
   "name": "python",
   "nbconvert_exporter": "python",
   "pygments_lexer": "ipython3",
   "version": "3.8.5"
  }
 },
 "nbformat": 4,
 "nbformat_minor": 4
}
